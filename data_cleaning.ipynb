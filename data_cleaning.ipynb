{
 "cells": [
  {
   "cell_type": "code",
   "execution_count": 1,
   "id": "6b477c95-f4be-4413-873e-a6316973a3d3",
   "metadata": {},
   "outputs": [],
   "source": [
    "%config IPCompleter.greedy=True"
   ]
  },
  {
   "cell_type": "markdown",
   "id": "ba1424e3-a3ce-4534-9698-2f2aa64ae943",
   "metadata": {},
   "source": [
    "# FIFA 21 Player Data Process\n",
    "## Dataset\n",
    "* [FIFA 21 players dataset](https://www.kaggle.com/datasets/yagunnersya/fifa-21-messy-raw-dataset-for-cleaning-exploring)\n",
    "\n",
    "## Guiding Questions:\n",
    "* Do the height and weight columns have the appropriate data types?\n",
    "* Can you separate the joined column into year, month and day columns?\n",
    "* Can you clean and transform the value, wage and release clause columns into columns of intergers?\n",
    "* How can you remove the newline characters from the Hits column?\n",
    "* Should you separate the Team & Contract column into separate team and contract columns?"
   ]
  },
  {
   "cell_type": "code",
   "execution_count": 122,
   "id": "5aaca26a-9cd3-424e-8c0f-d3157695e288",
   "metadata": {},
   "outputs": [],
   "source": [
    "import pandas as pd\n",
    "import re\n",
    "import matplotlib.pyplot as plt"
   ]
  },
  {
   "cell_type": "code",
   "execution_count": 11,
   "id": "c078ee73-6283-459c-891d-78dee878f1d7",
   "metadata": {},
   "outputs": [
    {
     "name": "stdout",
     "output_type": "stream",
     "text": [
      "<class 'pandas.core.frame.DataFrame'>\n",
      "RangeIndex: 18979 entries, 0 to 18978\n",
      "Data columns (total 77 columns):\n",
      " #   Column            Non-Null Count  Dtype \n",
      "---  ------            --------------  ----- \n",
      " 0   photoUrl          18979 non-null  object\n",
      " 1   LongName          18979 non-null  object\n",
      " 2   playerUrl         18979 non-null  object\n",
      " 3   Nationality       18979 non-null  object\n",
      " 4   Positions         18979 non-null  object\n",
      " 5   Name              18979 non-null  object\n",
      " 6   Age               18979 non-null  int64 \n",
      " 7   ↓OVA              18979 non-null  int64 \n",
      " 8   POT               18979 non-null  int64 \n",
      " 9   Team & Contract   18979 non-null  object\n",
      " 10  ID                18979 non-null  int64 \n",
      " 11  Height            18979 non-null  object\n",
      " 12  Weight            18979 non-null  object\n",
      " 13  foot              18979 non-null  object\n",
      " 14  BOV               18979 non-null  int64 \n",
      " 15  BP                18979 non-null  object\n",
      " 16  Growth            18979 non-null  int64 \n",
      " 17  Joined            18979 non-null  object\n",
      " 18  Loan Date End     1013 non-null   object\n",
      " 19  Value             18979 non-null  object\n",
      " 20  Wage              18979 non-null  object\n",
      " 21  Release Clause    18979 non-null  object\n",
      " 22  Attacking         18979 non-null  int64 \n",
      " 23  Crossing          18979 non-null  int64 \n",
      " 24  Finishing         18979 non-null  int64 \n",
      " 25  Heading Accuracy  18979 non-null  int64 \n",
      " 26  Short Passing     18979 non-null  int64 \n",
      " 27  Volleys           18979 non-null  int64 \n",
      " 28  Skill             18979 non-null  int64 \n",
      " 29  Dribbling         18979 non-null  int64 \n",
      " 30  Curve             18979 non-null  int64 \n",
      " 31  FK Accuracy       18979 non-null  int64 \n",
      " 32  Long Passing      18979 non-null  int64 \n",
      " 33  Ball Control      18979 non-null  int64 \n",
      " 34  Movement          18979 non-null  int64 \n",
      " 35  Acceleration      18979 non-null  int64 \n",
      " 36  Sprint Speed      18979 non-null  int64 \n",
      " 37  Agility           18979 non-null  int64 \n",
      " 38  Reactions         18979 non-null  int64 \n",
      " 39  Balance           18979 non-null  int64 \n",
      " 40  Power             18979 non-null  int64 \n",
      " 41  Shot Power        18979 non-null  int64 \n",
      " 42  Jumping           18979 non-null  int64 \n",
      " 43  Stamina           18979 non-null  int64 \n",
      " 44  Strength          18979 non-null  int64 \n",
      " 45  Long Shots        18979 non-null  int64 \n",
      " 46  Mentality         18979 non-null  int64 \n",
      " 47  Aggression        18979 non-null  int64 \n",
      " 48  Interceptions     18979 non-null  int64 \n",
      " 49  Positioning       18979 non-null  int64 \n",
      " 50  Vision            18979 non-null  int64 \n",
      " 51  Penalties         18979 non-null  int64 \n",
      " 52  Composure         18979 non-null  int64 \n",
      " 53  Defending         18979 non-null  int64 \n",
      " 54  Marking           18979 non-null  int64 \n",
      " 55  Standing Tackle   18979 non-null  int64 \n",
      " 56  Sliding Tackle    18979 non-null  int64 \n",
      " 57  Goalkeeping       18979 non-null  int64 \n",
      " 58  GK Diving         18979 non-null  int64 \n",
      " 59  GK Handling       18979 non-null  int64 \n",
      " 60  GK Kicking        18979 non-null  int64 \n",
      " 61  GK Positioning    18979 non-null  int64 \n",
      " 62  GK Reflexes       18979 non-null  int64 \n",
      " 63  Total Stats       18979 non-null  int64 \n",
      " 64  Base Stats        18979 non-null  int64 \n",
      " 65  W/F               18979 non-null  object\n",
      " 66  SM                18979 non-null  object\n",
      " 67  A/W               18979 non-null  object\n",
      " 68  D/W               18979 non-null  object\n",
      " 69  IR                18979 non-null  object\n",
      " 70  PAC               18979 non-null  int64 \n",
      " 71  SHO               18979 non-null  int64 \n",
      " 72  PAS               18979 non-null  int64 \n",
      " 73  DRI               18979 non-null  int64 \n",
      " 74  DEF               18979 non-null  int64 \n",
      " 75  PHY               18979 non-null  int64 \n",
      " 76  Hits              18979 non-null  string\n",
      "dtypes: int64(55), object(21), string(1)\n",
      "memory usage: 11.1+ MB\n"
     ]
    }
   ],
   "source": [
    "d = pd.read_csv(\n",
    "    \"dataset/fifa21_raw_data.csv\",\n",
    "    dtype={\"Hits\": \"string\"} # DtypeWarning: Columns (76) have mixed types.\n",
    ")\n",
    "d.info()"
   ]
  },
  {
   "cell_type": "code",
   "execution_count": 8,
   "id": "cec814ae-5cc3-49ea-833b-6e241d864e65",
   "metadata": {},
   "outputs": [
    {
     "data": {
      "text/html": [
       "<div>\n",
       "<style scoped>\n",
       "    .dataframe tbody tr th:only-of-type {\n",
       "        vertical-align: middle;\n",
       "    }\n",
       "\n",
       "    .dataframe tbody tr th {\n",
       "        vertical-align: top;\n",
       "    }\n",
       "\n",
       "    .dataframe thead th {\n",
       "        text-align: right;\n",
       "    }\n",
       "</style>\n",
       "<table border=\"1\" class=\"dataframe\">\n",
       "  <thead>\n",
       "    <tr style=\"text-align: right;\">\n",
       "      <th></th>\n",
       "      <th>photoUrl</th>\n",
       "      <th>LongName</th>\n",
       "      <th>playerUrl</th>\n",
       "      <th>Nationality</th>\n",
       "      <th>Positions</th>\n",
       "      <th>Name</th>\n",
       "      <th>Age</th>\n",
       "      <th>↓OVA</th>\n",
       "      <th>POT</th>\n",
       "      <th>Team &amp; Contract</th>\n",
       "      <th>...</th>\n",
       "      <th>A/W</th>\n",
       "      <th>D/W</th>\n",
       "      <th>IR</th>\n",
       "      <th>PAC</th>\n",
       "      <th>SHO</th>\n",
       "      <th>PAS</th>\n",
       "      <th>DRI</th>\n",
       "      <th>DEF</th>\n",
       "      <th>PHY</th>\n",
       "      <th>Hits</th>\n",
       "    </tr>\n",
       "  </thead>\n",
       "  <tbody>\n",
       "    <tr>\n",
       "      <th>0</th>\n",
       "      <td>https://cdn.sofifa.com/players/158/023/21_60.png</td>\n",
       "      <td>Lionel Messi</td>\n",
       "      <td>http://sofifa.com/player/158023/lionel-messi/2...</td>\n",
       "      <td>Argentina</td>\n",
       "      <td>RW ST CF</td>\n",
       "      <td>L. Messi</td>\n",
       "      <td>33</td>\n",
       "      <td>93</td>\n",
       "      <td>93</td>\n",
       "      <td>\\n\\n\\n\\nFC Barcelona\\n2004 ~ 2021\\n\\n</td>\n",
       "      <td>...</td>\n",
       "      <td>Medium</td>\n",
       "      <td>Low</td>\n",
       "      <td>5 ★</td>\n",
       "      <td>85</td>\n",
       "      <td>92</td>\n",
       "      <td>91</td>\n",
       "      <td>95</td>\n",
       "      <td>38</td>\n",
       "      <td>65</td>\n",
       "      <td>372</td>\n",
       "    </tr>\n",
       "    <tr>\n",
       "      <th>1</th>\n",
       "      <td>https://cdn.sofifa.com/players/020/801/21_60.png</td>\n",
       "      <td>C. Ronaldo dos Santos Aveiro</td>\n",
       "      <td>http://sofifa.com/player/20801/c-ronaldo-dos-s...</td>\n",
       "      <td>Portugal</td>\n",
       "      <td>ST LW</td>\n",
       "      <td>Cristiano Ronaldo</td>\n",
       "      <td>35</td>\n",
       "      <td>92</td>\n",
       "      <td>92</td>\n",
       "      <td>\\n\\n\\n\\nJuventus\\n2018 ~ 2022\\n\\n</td>\n",
       "      <td>...</td>\n",
       "      <td>High</td>\n",
       "      <td>Low</td>\n",
       "      <td>5 ★</td>\n",
       "      <td>89</td>\n",
       "      <td>93</td>\n",
       "      <td>81</td>\n",
       "      <td>89</td>\n",
       "      <td>35</td>\n",
       "      <td>77</td>\n",
       "      <td>344</td>\n",
       "    </tr>\n",
       "    <tr>\n",
       "      <th>2</th>\n",
       "      <td>https://cdn.sofifa.com/players/200/389/21_60.png</td>\n",
       "      <td>Jan Oblak</td>\n",
       "      <td>http://sofifa.com/player/200389/jan-oblak/210005/</td>\n",
       "      <td>Slovenia</td>\n",
       "      <td>GK</td>\n",
       "      <td>J. Oblak</td>\n",
       "      <td>27</td>\n",
       "      <td>91</td>\n",
       "      <td>93</td>\n",
       "      <td>\\n\\n\\n\\nAtlético Madrid\\n2014 ~ 2023\\n\\n</td>\n",
       "      <td>...</td>\n",
       "      <td>Medium</td>\n",
       "      <td>Medium</td>\n",
       "      <td>3 ★</td>\n",
       "      <td>87</td>\n",
       "      <td>92</td>\n",
       "      <td>78</td>\n",
       "      <td>90</td>\n",
       "      <td>52</td>\n",
       "      <td>90</td>\n",
       "      <td>86</td>\n",
       "    </tr>\n",
       "    <tr>\n",
       "      <th>3</th>\n",
       "      <td>https://cdn.sofifa.com/players/192/985/21_60.png</td>\n",
       "      <td>Kevin De Bruyne</td>\n",
       "      <td>http://sofifa.com/player/192985/kevin-de-bruyn...</td>\n",
       "      <td>Belgium</td>\n",
       "      <td>CAM CM</td>\n",
       "      <td>K. De Bruyne</td>\n",
       "      <td>29</td>\n",
       "      <td>91</td>\n",
       "      <td>91</td>\n",
       "      <td>\\n\\n\\n\\nManchester City\\n2015 ~ 2023\\n\\n</td>\n",
       "      <td>...</td>\n",
       "      <td>High</td>\n",
       "      <td>High</td>\n",
       "      <td>4 ★</td>\n",
       "      <td>76</td>\n",
       "      <td>86</td>\n",
       "      <td>93</td>\n",
       "      <td>88</td>\n",
       "      <td>64</td>\n",
       "      <td>78</td>\n",
       "      <td>163</td>\n",
       "    </tr>\n",
       "    <tr>\n",
       "      <th>4</th>\n",
       "      <td>https://cdn.sofifa.com/players/190/871/21_60.png</td>\n",
       "      <td>Neymar da Silva Santos Jr.</td>\n",
       "      <td>http://sofifa.com/player/190871/neymar-da-silv...</td>\n",
       "      <td>Brazil</td>\n",
       "      <td>LW CAM</td>\n",
       "      <td>Neymar Jr</td>\n",
       "      <td>28</td>\n",
       "      <td>91</td>\n",
       "      <td>91</td>\n",
       "      <td>\\n\\n\\n\\nParis Saint-Germain\\n2017 ~ 2022\\n\\n</td>\n",
       "      <td>...</td>\n",
       "      <td>High</td>\n",
       "      <td>Medium</td>\n",
       "      <td>5 ★</td>\n",
       "      <td>91</td>\n",
       "      <td>85</td>\n",
       "      <td>86</td>\n",
       "      <td>94</td>\n",
       "      <td>36</td>\n",
       "      <td>59</td>\n",
       "      <td>273</td>\n",
       "    </tr>\n",
       "  </tbody>\n",
       "</table>\n",
       "<p>5 rows × 77 columns</p>\n",
       "</div>"
      ],
      "text/plain": [
       "                                           photoUrl  \\\n",
       "0  https://cdn.sofifa.com/players/158/023/21_60.png   \n",
       "1  https://cdn.sofifa.com/players/020/801/21_60.png   \n",
       "2  https://cdn.sofifa.com/players/200/389/21_60.png   \n",
       "3  https://cdn.sofifa.com/players/192/985/21_60.png   \n",
       "4  https://cdn.sofifa.com/players/190/871/21_60.png   \n",
       "\n",
       "                       LongName  \\\n",
       "0                  Lionel Messi   \n",
       "1  C. Ronaldo dos Santos Aveiro   \n",
       "2                     Jan Oblak   \n",
       "3               Kevin De Bruyne   \n",
       "4    Neymar da Silva Santos Jr.   \n",
       "\n",
       "                                           playerUrl Nationality Positions  \\\n",
       "0  http://sofifa.com/player/158023/lionel-messi/2...   Argentina  RW ST CF   \n",
       "1  http://sofifa.com/player/20801/c-ronaldo-dos-s...    Portugal     ST LW   \n",
       "2  http://sofifa.com/player/200389/jan-oblak/210005/    Slovenia        GK   \n",
       "3  http://sofifa.com/player/192985/kevin-de-bruyn...     Belgium    CAM CM   \n",
       "4  http://sofifa.com/player/190871/neymar-da-silv...      Brazil    LW CAM   \n",
       "\n",
       "                Name  Age  ↓OVA  POT  \\\n",
       "0           L. Messi   33    93   93   \n",
       "1  Cristiano Ronaldo   35    92   92   \n",
       "2           J. Oblak   27    91   93   \n",
       "3       K. De Bruyne   29    91   91   \n",
       "4          Neymar Jr   28    91   91   \n",
       "\n",
       "                                Team & Contract  ...     A/W     D/W   IR PAC  \\\n",
       "0         \\n\\n\\n\\nFC Barcelona\\n2004 ~ 2021\\n\\n  ...  Medium     Low  5 ★  85   \n",
       "1             \\n\\n\\n\\nJuventus\\n2018 ~ 2022\\n\\n  ...    High     Low  5 ★  89   \n",
       "2      \\n\\n\\n\\nAtlético Madrid\\n2014 ~ 2023\\n\\n  ...  Medium  Medium  3 ★  87   \n",
       "3      \\n\\n\\n\\nManchester City\\n2015 ~ 2023\\n\\n  ...    High    High  4 ★  76   \n",
       "4  \\n\\n\\n\\nParis Saint-Germain\\n2017 ~ 2022\\n\\n  ...    High  Medium  5 ★  91   \n",
       "\n",
       "   SHO PAS  DRI DEF PHY  Hits  \n",
       "0   92  91   95  38  65  \n",
       "372  \n",
       "1   93  81   89  35  77  \n",
       "344  \n",
       "2   92  78   90  52  90   \n",
       "86  \n",
       "3   86  93   88  64  78  \n",
       "163  \n",
       "4   85  86   94  36  59  \n",
       "273  \n",
       "\n",
       "[5 rows x 77 columns]"
      ]
     },
     "execution_count": 8,
     "metadata": {},
     "output_type": "execute_result"
    }
   ],
   "source": [
    "d.head()"
   ]
  },
  {
   "cell_type": "code",
   "execution_count": 14,
   "id": "ccaae4ca-6995-48c2-921d-f0be8cd45413",
   "metadata": {},
   "outputs": [
    {
     "data": {
      "text/plain": [
       "Index(['photoUrl', 'LongName', 'playerUrl', 'Nationality', 'Positions', 'Name',\n",
       "       'Age', '↓OVA', 'POT', 'Team & Contract', 'ID', 'Height', 'Weight',\n",
       "       'foot', 'BOV', 'BP', 'Growth', 'Joined', 'Loan Date End', 'Value',\n",
       "       'Wage', 'Release Clause', 'Attacking', 'Crossing', 'Finishing',\n",
       "       'Heading Accuracy', 'Short Passing', 'Volleys', 'Skill', 'Dribbling',\n",
       "       'Curve', 'FK Accuracy', 'Long Passing', 'Ball Control', 'Movement',\n",
       "       'Acceleration', 'Sprint Speed', 'Agility', 'Reactions', 'Balance',\n",
       "       'Power', 'Shot Power', 'Jumping', 'Stamina', 'Strength', 'Long Shots',\n",
       "       'Mentality', 'Aggression', 'Interceptions', 'Positioning', 'Vision',\n",
       "       'Penalties', 'Composure', 'Defending', 'Marking', 'Standing Tackle',\n",
       "       'Sliding Tackle', 'Goalkeeping', 'GK Diving', 'GK Handling',\n",
       "       'GK Kicking', 'GK Positioning', 'GK Reflexes', 'Total Stats',\n",
       "       'Base Stats', 'W/F', 'SM', 'A/W', 'D/W', 'IR', 'PAC', 'SHO', 'PAS',\n",
       "       'DRI', 'DEF', 'PHY', 'Hits'],\n",
       "      dtype='object')"
      ]
     },
     "execution_count": 14,
     "metadata": {},
     "output_type": "execute_result"
    }
   ],
   "source": [
    "d.columns"
   ]
  },
  {
   "cell_type": "markdown",
   "id": "c3957aa3-d582-4751-aab1-710cad57df26",
   "metadata": {},
   "source": [
    "## Do the height and weight columns have the appropriate data types?"
   ]
  },
  {
   "cell_type": "code",
   "execution_count": 18,
   "id": "98b7ad2a-fa5f-4e0d-ad41-60f1d1152bcc",
   "metadata": {},
   "outputs": [
    {
     "data": {
      "text/html": [
       "<div>\n",
       "<style scoped>\n",
       "    .dataframe tbody tr th:only-of-type {\n",
       "        vertical-align: middle;\n",
       "    }\n",
       "\n",
       "    .dataframe tbody tr th {\n",
       "        vertical-align: top;\n",
       "    }\n",
       "\n",
       "    .dataframe thead th {\n",
       "        text-align: right;\n",
       "    }\n",
       "</style>\n",
       "<table border=\"1\" class=\"dataframe\">\n",
       "  <thead>\n",
       "    <tr style=\"text-align: right;\">\n",
       "      <th></th>\n",
       "      <th>Weight</th>\n",
       "      <th>Height</th>\n",
       "    </tr>\n",
       "  </thead>\n",
       "  <tbody>\n",
       "    <tr>\n",
       "      <th>0</th>\n",
       "      <td>159lbs</td>\n",
       "      <td>5'7\"</td>\n",
       "    </tr>\n",
       "    <tr>\n",
       "      <th>1</th>\n",
       "      <td>183lbs</td>\n",
       "      <td>6'2\"</td>\n",
       "    </tr>\n",
       "    <tr>\n",
       "      <th>2</th>\n",
       "      <td>192lbs</td>\n",
       "      <td>6'2\"</td>\n",
       "    </tr>\n",
       "    <tr>\n",
       "      <th>3</th>\n",
       "      <td>154lbs</td>\n",
       "      <td>5'11\"</td>\n",
       "    </tr>\n",
       "    <tr>\n",
       "      <th>4</th>\n",
       "      <td>150lbs</td>\n",
       "      <td>5'9\"</td>\n",
       "    </tr>\n",
       "  </tbody>\n",
       "</table>\n",
       "</div>"
      ],
      "text/plain": [
       "   Weight Height\n",
       "0  159lbs   5'7\"\n",
       "1  183lbs   6'2\"\n",
       "2  192lbs   6'2\"\n",
       "3  154lbs  5'11\"\n",
       "4  150lbs   5'9\""
      ]
     },
     "execution_count": 18,
     "metadata": {},
     "output_type": "execute_result"
    }
   ],
   "source": [
    "d[[\"Weight\", \"Height\"]].head()"
   ]
  },
  {
   "cell_type": "code",
   "execution_count": 19,
   "id": "d640a49f-83d7-4103-be1b-579e583a65b6",
   "metadata": {},
   "outputs": [
    {
     "data": {
      "text/plain": [
       "Weight    object\n",
       "Height    object\n",
       "dtype: object"
      ]
     },
     "execution_count": 19,
     "metadata": {},
     "output_type": "execute_result"
    }
   ],
   "source": [
    "d[[\"Weight\", \"Height\"]].dtypes"
   ]
  },
  {
   "cell_type": "code",
   "execution_count": 47,
   "id": "d72db507-1bd3-4551-b1f4-639b7ee31fc1",
   "metadata": {},
   "outputs": [],
   "source": [
    "d[\"weight_kg\"] = (\n",
    "    d[\"Weight\"].str\n",
    "    .extract(r'(\\d+)\\s*lbs')\n",
    "    .astype(float)\n",
    "    .mul(0.453592)\n",
    "    .round()\n",
    ")"
   ]
  },
  {
   "cell_type": "code",
   "execution_count": 35,
   "id": "5a2fd0e4-354a-4781-8852-d5276aabecf5",
   "metadata": {},
   "outputs": [],
   "source": [
    "d[\"height_cm\"] = (\n",
    "    d[\"Height\"].str\n",
    "    .extract(r'(\\d+)\\'\\s*(\\d+)\"')\n",
    "    .astype(float)\n",
    "    .mul([12*2.54, 2.54])\n",
    "    .sum(axis=1)\n",
    ")"
   ]
  },
  {
   "cell_type": "code",
   "execution_count": 48,
   "id": "5324b5a4-bc83-45e3-b0c9-90a4f3082cf0",
   "metadata": {},
   "outputs": [
    {
     "data": {
      "text/html": [
       "<div>\n",
       "<style scoped>\n",
       "    .dataframe tbody tr th:only-of-type {\n",
       "        vertical-align: middle;\n",
       "    }\n",
       "\n",
       "    .dataframe tbody tr th {\n",
       "        vertical-align: top;\n",
       "    }\n",
       "\n",
       "    .dataframe thead th {\n",
       "        text-align: right;\n",
       "    }\n",
       "</style>\n",
       "<table border=\"1\" class=\"dataframe\">\n",
       "  <thead>\n",
       "    <tr style=\"text-align: right;\">\n",
       "      <th></th>\n",
       "      <th>weight_kg</th>\n",
       "      <th>height_cm</th>\n",
       "    </tr>\n",
       "  </thead>\n",
       "  <tbody>\n",
       "    <tr>\n",
       "      <th>0</th>\n",
       "      <td>72.0</td>\n",
       "      <td>170.18</td>\n",
       "    </tr>\n",
       "    <tr>\n",
       "      <th>1</th>\n",
       "      <td>83.0</td>\n",
       "      <td>187.96</td>\n",
       "    </tr>\n",
       "    <tr>\n",
       "      <th>2</th>\n",
       "      <td>87.0</td>\n",
       "      <td>187.96</td>\n",
       "    </tr>\n",
       "    <tr>\n",
       "      <th>3</th>\n",
       "      <td>70.0</td>\n",
       "      <td>180.34</td>\n",
       "    </tr>\n",
       "    <tr>\n",
       "      <th>4</th>\n",
       "      <td>68.0</td>\n",
       "      <td>175.26</td>\n",
       "    </tr>\n",
       "  </tbody>\n",
       "</table>\n",
       "</div>"
      ],
      "text/plain": [
       "   weight_kg  height_cm\n",
       "0       72.0     170.18\n",
       "1       83.0     187.96\n",
       "2       87.0     187.96\n",
       "3       70.0     180.34\n",
       "4       68.0     175.26"
      ]
     },
     "execution_count": 48,
     "metadata": {},
     "output_type": "execute_result"
    }
   ],
   "source": [
    "d[[\"weight_kg\", \"height_cm\"]].head()"
   ]
  },
  {
   "cell_type": "markdown",
   "id": "c2772652-7ce3-4a66-918d-494cc238fa06",
   "metadata": {},
   "source": [
    "##　Can you separate the Joined column into year, month and day columns?"
   ]
  },
  {
   "cell_type": "code",
   "execution_count": 51,
   "id": "028a9415-d8fd-442f-bb8c-6ce223ccdcd2",
   "metadata": {},
   "outputs": [
    {
     "data": {
      "text/html": [
       "<div>\n",
       "<style scoped>\n",
       "    .dataframe tbody tr th:only-of-type {\n",
       "        vertical-align: middle;\n",
       "    }\n",
       "\n",
       "    .dataframe tbody tr th {\n",
       "        vertical-align: top;\n",
       "    }\n",
       "\n",
       "    .dataframe thead th {\n",
       "        text-align: right;\n",
       "    }\n",
       "</style>\n",
       "<table border=\"1\" class=\"dataframe\">\n",
       "  <thead>\n",
       "    <tr style=\"text-align: right;\">\n",
       "      <th></th>\n",
       "      <th>Joined</th>\n",
       "    </tr>\n",
       "  </thead>\n",
       "  <tbody>\n",
       "    <tr>\n",
       "      <th>0</th>\n",
       "      <td>Jul 1, 2004</td>\n",
       "    </tr>\n",
       "    <tr>\n",
       "      <th>1</th>\n",
       "      <td>Jul 10, 2018</td>\n",
       "    </tr>\n",
       "    <tr>\n",
       "      <th>2</th>\n",
       "      <td>Jul 16, 2014</td>\n",
       "    </tr>\n",
       "    <tr>\n",
       "      <th>3</th>\n",
       "      <td>Aug 30, 2015</td>\n",
       "    </tr>\n",
       "    <tr>\n",
       "      <th>4</th>\n",
       "      <td>Aug 3, 2017</td>\n",
       "    </tr>\n",
       "  </tbody>\n",
       "</table>\n",
       "</div>"
      ],
      "text/plain": [
       "         Joined\n",
       "0   Jul 1, 2004\n",
       "1  Jul 10, 2018\n",
       "2  Jul 16, 2014\n",
       "3  Aug 30, 2015\n",
       "4   Aug 3, 2017"
      ]
     },
     "execution_count": 51,
     "metadata": {},
     "output_type": "execute_result"
    }
   ],
   "source": [
    "d[[\"Joined\"]].head()"
   ]
  },
  {
   "cell_type": "code",
   "execution_count": 58,
   "id": "4cf7eec5-6112-4de2-bb89-cebcc455978b",
   "metadata": {},
   "outputs": [],
   "source": [
    "d[\"joined_date\"] = pd.to_datetime(d[\"Joined\"], format=\"%b %d, %Y\")"
   ]
  },
  {
   "cell_type": "code",
   "execution_count": 62,
   "id": "1f5679ee-97d2-4409-ba85-fb8f90641115",
   "metadata": {},
   "outputs": [],
   "source": [
    "d[\"joined_year\"] = d[\"joined_date\"].dt.year\n",
    "d[\"joined_month\"] = d[\"joined_date\"].dt.month\n",
    "d[\"joined_day\"] = d[\"joined_date\"].dt.day"
   ]
  },
  {
   "cell_type": "code",
   "execution_count": 65,
   "id": "716b4729-20bd-447d-9340-69d3976e7515",
   "metadata": {},
   "outputs": [
    {
     "data": {
      "text/html": [
       "<div>\n",
       "<style scoped>\n",
       "    .dataframe tbody tr th:only-of-type {\n",
       "        vertical-align: middle;\n",
       "    }\n",
       "\n",
       "    .dataframe tbody tr th {\n",
       "        vertical-align: top;\n",
       "    }\n",
       "\n",
       "    .dataframe thead th {\n",
       "        text-align: right;\n",
       "    }\n",
       "</style>\n",
       "<table border=\"1\" class=\"dataframe\">\n",
       "  <thead>\n",
       "    <tr style=\"text-align: right;\">\n",
       "      <th></th>\n",
       "      <th>Joined</th>\n",
       "      <th>joined_date</th>\n",
       "      <th>joined_year</th>\n",
       "      <th>joined_month</th>\n",
       "      <th>joined_day</th>\n",
       "    </tr>\n",
       "  </thead>\n",
       "  <tbody>\n",
       "    <tr>\n",
       "      <th>0</th>\n",
       "      <td>Jul 1, 2004</td>\n",
       "      <td>2004-07-01</td>\n",
       "      <td>2004</td>\n",
       "      <td>7</td>\n",
       "      <td>1</td>\n",
       "    </tr>\n",
       "    <tr>\n",
       "      <th>1</th>\n",
       "      <td>Jul 10, 2018</td>\n",
       "      <td>2018-07-10</td>\n",
       "      <td>2018</td>\n",
       "      <td>7</td>\n",
       "      <td>10</td>\n",
       "    </tr>\n",
       "    <tr>\n",
       "      <th>2</th>\n",
       "      <td>Jul 16, 2014</td>\n",
       "      <td>2014-07-16</td>\n",
       "      <td>2014</td>\n",
       "      <td>7</td>\n",
       "      <td>16</td>\n",
       "    </tr>\n",
       "    <tr>\n",
       "      <th>3</th>\n",
       "      <td>Aug 30, 2015</td>\n",
       "      <td>2015-08-30</td>\n",
       "      <td>2015</td>\n",
       "      <td>8</td>\n",
       "      <td>30</td>\n",
       "    </tr>\n",
       "    <tr>\n",
       "      <th>4</th>\n",
       "      <td>Aug 3, 2017</td>\n",
       "      <td>2017-08-03</td>\n",
       "      <td>2017</td>\n",
       "      <td>8</td>\n",
       "      <td>3</td>\n",
       "    </tr>\n",
       "  </tbody>\n",
       "</table>\n",
       "</div>"
      ],
      "text/plain": [
       "         Joined joined_date  joined_year  joined_month  joined_day\n",
       "0   Jul 1, 2004  2004-07-01         2004             7           1\n",
       "1  Jul 10, 2018  2018-07-10         2018             7          10\n",
       "2  Jul 16, 2014  2014-07-16         2014             7          16\n",
       "3  Aug 30, 2015  2015-08-30         2015             8          30\n",
       "4   Aug 3, 2017  2017-08-03         2017             8           3"
      ]
     },
     "execution_count": 65,
     "metadata": {},
     "output_type": "execute_result"
    }
   ],
   "source": [
    "d[[\"Joined\", \"joined_date\", \"joined_year\",\"joined_month\", \"joined_day\"]].head()"
   ]
  },
  {
   "cell_type": "markdown",
   "id": "3180d524-8285-4947-b69f-4d35798829b9",
   "metadata": {},
   "source": [
    "## Can you clean and transform the value, wage and release clause columns into columns of intergers?"
   ]
  },
  {
   "cell_type": "code",
   "execution_count": 75,
   "id": "1c3b51a5-3fd9-4da8-9d20-1dae63707435",
   "metadata": {},
   "outputs": [
    {
     "data": {
      "text/html": [
       "<div>\n",
       "<style scoped>\n",
       "    .dataframe tbody tr th:only-of-type {\n",
       "        vertical-align: middle;\n",
       "    }\n",
       "\n",
       "    .dataframe tbody tr th {\n",
       "        vertical-align: top;\n",
       "    }\n",
       "\n",
       "    .dataframe thead th {\n",
       "        text-align: right;\n",
       "    }\n",
       "</style>\n",
       "<table border=\"1\" class=\"dataframe\">\n",
       "  <thead>\n",
       "    <tr style=\"text-align: right;\">\n",
       "      <th></th>\n",
       "      <th>Wage</th>\n",
       "      <th>Value</th>\n",
       "      <th>Release Clause</th>\n",
       "    </tr>\n",
       "  </thead>\n",
       "  <tbody>\n",
       "    <tr>\n",
       "      <th>0</th>\n",
       "      <td>€560K</td>\n",
       "      <td>€67.5M</td>\n",
       "      <td>€138.4M</td>\n",
       "    </tr>\n",
       "    <tr>\n",
       "      <th>1</th>\n",
       "      <td>€220K</td>\n",
       "      <td>€46M</td>\n",
       "      <td>€75.9M</td>\n",
       "    </tr>\n",
       "    <tr>\n",
       "      <th>2</th>\n",
       "      <td>€125K</td>\n",
       "      <td>€75M</td>\n",
       "      <td>€159.4M</td>\n",
       "    </tr>\n",
       "    <tr>\n",
       "      <th>3</th>\n",
       "      <td>€370K</td>\n",
       "      <td>€87M</td>\n",
       "      <td>€161M</td>\n",
       "    </tr>\n",
       "    <tr>\n",
       "      <th>4</th>\n",
       "      <td>€270K</td>\n",
       "      <td>€90M</td>\n",
       "      <td>€166.5M</td>\n",
       "    </tr>\n",
       "  </tbody>\n",
       "</table>\n",
       "</div>"
      ],
      "text/plain": [
       "    Wage   Value Release Clause\n",
       "0  €560K  €67.5M        €138.4M\n",
       "1  €220K    €46M         €75.9M\n",
       "2  €125K    €75M        €159.4M\n",
       "3  €370K    €87M          €161M\n",
       "4  €270K    €90M        €166.5M"
      ]
     },
     "execution_count": 75,
     "metadata": {},
     "output_type": "execute_result"
    }
   ],
   "source": [
    "d[[\"Wage\", \"Value\", \"Release Clause\"]].head()"
   ]
  },
  {
   "cell_type": "code",
   "execution_count": null,
   "id": "d6d3b616-3206-440d-a5c4-860896590fe6",
   "metadata": {},
   "outputs": [],
   "source": [
    "# Knowing if there are different unit"
   ]
  },
  {
   "cell_type": "code",
   "execution_count": 97,
   "id": "4f4f5f38-94cc-4382-8667-9537aaa1b9fa",
   "metadata": {},
   "outputs": [
    {
     "name": "stdout",
     "output_type": "stream",
     "text": [
      "Player wage with K unit:  14824\n",
      "Player wage with M unit:  0\n",
      "Player wage without unit:  4155\n"
     ]
    }
   ],
   "source": [
    "print(\"Player wage with K unit: \", d[[\"Wage\"]][d[\"Wage\"].str.contains(\"K\")].shape[0])\n",
    "print(\"Player wage with M unit: \", d[[\"Wage\"]][d[\"Wage\"].str.contains(\"M\")].shape[0])\n",
    "print(\"Player wage without unit: \", d[[\"Wage\"]][\n",
    "      ~(d[\"Wage\"].str.contains(\"M\")\n",
    "        | d[\"Wage\"].str.contains(\"K\"))\n",
    "    ].shape[0])"
   ]
  },
  {
   "cell_type": "code",
   "execution_count": 96,
   "id": "f534e96a-4c55-4a5f-89e3-875f7eb45db4",
   "metadata": {},
   "outputs": [
    {
     "name": "stdout",
     "output_type": "stream",
     "text": [
      "Player value with K unit:  11944\n",
      "Player value with M unit:  6786\n",
      "Player value without unit:  249\n"
     ]
    }
   ],
   "source": [
    "print(\"Player value with K unit: \", d[[\"Value\"]][d[\"Value\"].str.contains(\"K\")].shape[0])\n",
    "print(\"Player value with M unit: \", d[[\"Value\"]][d[\"Value\"].str.contains(\"M\")].shape[0])\n",
    "print(\"Player value without unit: \", d[[\"Value\"]][\n",
    "      ~(d[\"Value\"].str.contains(\"M\")\n",
    "        | d[\"Value\"].str.contains(\"K\"))\n",
    "    ].shape[0])"
   ]
  },
  {
   "cell_type": "code",
   "execution_count": 110,
   "id": "8777eda2-1368-4d11-9519-3ccf21a5cf0e",
   "metadata": {},
   "outputs": [],
   "source": [
    "def handle_amount(s: str)->int:\n",
    "    pattern = r'€(\\d+(\\.\\d+)?)[A-Z]*'\n",
    "    num = float(re.search(pattern, s).group(1))\n",
    "    if \"M\" in s:\n",
    "        num *= 1000000\n",
    "    elif \"K\" in s:\n",
    "        num *= 1000\n",
    "    return int(num)"
   ]
  },
  {
   "cell_type": "code",
   "execution_count": 111,
   "id": "d8714dc6-65a2-4e8a-aa4e-848e4ba2b4a0",
   "metadata": {},
   "outputs": [],
   "source": [
    "d[\"value_eur\"] = d[\"Value\"].apply(handle_amount)\n",
    "d[\"wage_eur\"] = d[\"Wage\"].apply(handle_amount)\n",
    "d[\"release_zlause_eur\"] = d[\"Release Clause\"].apply(handle_amount)"
   ]
  },
  {
   "cell_type": "code",
   "execution_count": 113,
   "id": "98d75d20-4954-47e3-95af-564624ca0aca",
   "metadata": {},
   "outputs": [
    {
     "data": {
      "text/html": [
       "<div>\n",
       "<style scoped>\n",
       "    .dataframe tbody tr th:only-of-type {\n",
       "        vertical-align: middle;\n",
       "    }\n",
       "\n",
       "    .dataframe tbody tr th {\n",
       "        vertical-align: top;\n",
       "    }\n",
       "\n",
       "    .dataframe thead th {\n",
       "        text-align: right;\n",
       "    }\n",
       "</style>\n",
       "<table border=\"1\" class=\"dataframe\">\n",
       "  <thead>\n",
       "    <tr style=\"text-align: right;\">\n",
       "      <th></th>\n",
       "      <th>Value</th>\n",
       "      <th>value_eur</th>\n",
       "      <th>Wage</th>\n",
       "      <th>wage_eur</th>\n",
       "      <th>Release Clause</th>\n",
       "      <th>release_zlause_eur</th>\n",
       "    </tr>\n",
       "  </thead>\n",
       "  <tbody>\n",
       "    <tr>\n",
       "      <th>0</th>\n",
       "      <td>€67.5M</td>\n",
       "      <td>67500000</td>\n",
       "      <td>€560K</td>\n",
       "      <td>560000</td>\n",
       "      <td>€138.4M</td>\n",
       "      <td>138400000</td>\n",
       "    </tr>\n",
       "    <tr>\n",
       "      <th>1</th>\n",
       "      <td>€46M</td>\n",
       "      <td>46000000</td>\n",
       "      <td>€220K</td>\n",
       "      <td>220000</td>\n",
       "      <td>€75.9M</td>\n",
       "      <td>75900000</td>\n",
       "    </tr>\n",
       "    <tr>\n",
       "      <th>2</th>\n",
       "      <td>€75M</td>\n",
       "      <td>75000000</td>\n",
       "      <td>€125K</td>\n",
       "      <td>125000</td>\n",
       "      <td>€159.4M</td>\n",
       "      <td>159400000</td>\n",
       "    </tr>\n",
       "    <tr>\n",
       "      <th>3</th>\n",
       "      <td>€87M</td>\n",
       "      <td>87000000</td>\n",
       "      <td>€370K</td>\n",
       "      <td>370000</td>\n",
       "      <td>€161M</td>\n",
       "      <td>161000000</td>\n",
       "    </tr>\n",
       "    <tr>\n",
       "      <th>4</th>\n",
       "      <td>€90M</td>\n",
       "      <td>90000000</td>\n",
       "      <td>€270K</td>\n",
       "      <td>270000</td>\n",
       "      <td>€166.5M</td>\n",
       "      <td>166500000</td>\n",
       "    </tr>\n",
       "  </tbody>\n",
       "</table>\n",
       "</div>"
      ],
      "text/plain": [
       "    Value  value_eur   Wage  wage_eur Release Clause  release_zlause_eur\n",
       "0  €67.5M   67500000  €560K    560000        €138.4M           138400000\n",
       "1    €46M   46000000  €220K    220000         €75.9M            75900000\n",
       "2    €75M   75000000  €125K    125000        €159.4M           159400000\n",
       "3    €87M   87000000  €370K    370000          €161M           161000000\n",
       "4    €90M   90000000  €270K    270000        €166.5M           166500000"
      ]
     },
     "execution_count": 113,
     "metadata": {},
     "output_type": "execute_result"
    }
   ],
   "source": [
    "d[[\n",
    "    \"Value\", \"value_eur\", \n",
    "    \"Wage\", \"wage_eur\", \n",
    "    \"Release Clause\", \"release_zlause_eur\"\n",
    "]].head()"
   ]
  },
  {
   "cell_type": "markdown",
   "id": "7f259071-d2f3-4ba4-86d2-8cbc93f1af56",
   "metadata": {},
   "source": [
    "How can you remove the newline characters from the Hits column?"
   ]
  },
  {
   "cell_type": "code",
   "execution_count": 156,
   "id": "210b3f65-c041-4be2-a57e-1cf58fff02cf",
   "metadata": {},
   "outputs": [
    {
     "data": {
      "text/plain": [
       "'\\n372'"
      ]
     },
     "execution_count": 156,
     "metadata": {},
     "output_type": "execute_result"
    }
   ],
   "source": [
    "d[\"Hits\"].iloc[0]"
   ]
  },
  {
   "cell_type": "code",
   "execution_count": 154,
   "id": "057d3f97-e7d2-417b-abeb-ca5c174717ff",
   "metadata": {},
   "outputs": [
    {
     "data": {
      "text/plain": [
       "'\\n1.3K'"
      ]
     },
     "execution_count": 154,
     "metadata": {},
     "output_type": "execute_result"
    }
   ],
   "source": [
    "d[\"Hits\"].iloc[99]"
   ]
  },
  {
   "cell_type": "code",
   "execution_count": 166,
   "id": "03ed47fb-6355-4cac-8bd5-b220d63a39a9",
   "metadata": {},
   "outputs": [],
   "source": [
    "def handle_hits(s: str)->int:\n",
    "    tmp = None\n",
    "    if s:\n",
    "        tmp = s.replace(\"\\n\", \"\")\n",
    "        if \"K\" in tmp:\n",
    "            tmp = int(float(tmp.replace(\"K\", \"\")) * 1000)\n",
    "        else:\n",
    "            tmp = int(tmp)\n",
    "        return tmp\n",
    "    else:\n",
    "        return tmp\n",
    "d[\"hits\"] = d[\"Hits\"].apply(handle_hits)"
   ]
  },
  {
   "cell_type": "code",
   "execution_count": 163,
   "id": "627a8b18-d97c-49b3-8667-c41268d2b191",
   "metadata": {},
   "outputs": [
    {
     "data": {
      "text/html": [
       "<div>\n",
       "<style scoped>\n",
       "    .dataframe tbody tr th:only-of-type {\n",
       "        vertical-align: middle;\n",
       "    }\n",
       "\n",
       "    .dataframe tbody tr th {\n",
       "        vertical-align: top;\n",
       "    }\n",
       "\n",
       "    .dataframe thead th {\n",
       "        text-align: right;\n",
       "    }\n",
       "</style>\n",
       "<table border=\"1\" class=\"dataframe\">\n",
       "  <thead>\n",
       "    <tr style=\"text-align: right;\">\n",
       "      <th></th>\n",
       "      <th>Hits</th>\n",
       "      <th>hits</th>\n",
       "    </tr>\n",
       "  </thead>\n",
       "  <tbody>\n",
       "    <tr>\n",
       "      <th>0</th>\n",
       "      <td>372</td>\n",
       "      <td>372</td>\n",
       "    </tr>\n",
       "    <tr>\n",
       "      <th>1</th>\n",
       "      <td>344</td>\n",
       "      <td>344</td>\n",
       "    </tr>\n",
       "    <tr>\n",
       "      <th>2</th>\n",
       "      <td>86</td>\n",
       "      <td>86</td>\n",
       "    </tr>\n",
       "    <tr>\n",
       "      <th>3</th>\n",
       "      <td>163</td>\n",
       "      <td>163</td>\n",
       "    </tr>\n",
       "    <tr>\n",
       "      <th>4</th>\n",
       "      <td>273</td>\n",
       "      <td>273</td>\n",
       "    </tr>\n",
       "  </tbody>\n",
       "</table>\n",
       "</div>"
      ],
      "text/plain": [
       "   Hits  hits\n",
       "0  \n",
       "372   372\n",
       "1  \n",
       "344   344\n",
       "2   \n",
       "86    86\n",
       "3  \n",
       "163   163\n",
       "4  \n",
       "273   273"
      ]
     },
     "execution_count": 163,
     "metadata": {},
     "output_type": "execute_result"
    }
   ],
   "source": [
    "d[[\"Hits\", \"hits\"]].head()"
   ]
  },
  {
   "cell_type": "code",
   "execution_count": 164,
   "id": "dc950159-4de2-4122-bab9-19a6ab089114",
   "metadata": {},
   "outputs": [
    {
     "data": {
      "text/plain": [
       "1300"
      ]
     },
     "execution_count": 164,
     "metadata": {},
     "output_type": "execute_result"
    }
   ],
   "source": [
    "d[\"hits\"].iloc[99]"
   ]
  },
  {
   "cell_type": "markdown",
   "id": "6a5850f9-8283-44fe-8271-8e64ceb61c9c",
   "metadata": {},
   "source": [
    "Should you separate the Team & Contract column into separate team and contract columns?"
   ]
  },
  {
   "cell_type": "code",
   "execution_count": 168,
   "id": "071bf7a2-95e5-44ca-91f9-4ce516bc1002",
   "metadata": {},
   "outputs": [
    {
     "data": {
      "text/html": [
       "<div>\n",
       "<style scoped>\n",
       "    .dataframe tbody tr th:only-of-type {\n",
       "        vertical-align: middle;\n",
       "    }\n",
       "\n",
       "    .dataframe tbody tr th {\n",
       "        vertical-align: top;\n",
       "    }\n",
       "\n",
       "    .dataframe thead th {\n",
       "        text-align: right;\n",
       "    }\n",
       "</style>\n",
       "<table border=\"1\" class=\"dataframe\">\n",
       "  <thead>\n",
       "    <tr style=\"text-align: right;\">\n",
       "      <th></th>\n",
       "      <th>Team &amp; Contract</th>\n",
       "    </tr>\n",
       "  </thead>\n",
       "  <tbody>\n",
       "    <tr>\n",
       "      <th>0</th>\n",
       "      <td>\\n\\n\\n\\nFC Barcelona\\n2004 ~ 2021\\n\\n</td>\n",
       "    </tr>\n",
       "    <tr>\n",
       "      <th>1</th>\n",
       "      <td>\\n\\n\\n\\nJuventus\\n2018 ~ 2022\\n\\n</td>\n",
       "    </tr>\n",
       "    <tr>\n",
       "      <th>2</th>\n",
       "      <td>\\n\\n\\n\\nAtlético Madrid\\n2014 ~ 2023\\n\\n</td>\n",
       "    </tr>\n",
       "    <tr>\n",
       "      <th>3</th>\n",
       "      <td>\\n\\n\\n\\nManchester City\\n2015 ~ 2023\\n\\n</td>\n",
       "    </tr>\n",
       "    <tr>\n",
       "      <th>4</th>\n",
       "      <td>\\n\\n\\n\\nParis Saint-Germain\\n2017 ~ 2022\\n\\n</td>\n",
       "    </tr>\n",
       "  </tbody>\n",
       "</table>\n",
       "</div>"
      ],
      "text/plain": [
       "                                Team & Contract\n",
       "0         \\n\\n\\n\\nFC Barcelona\\n2004 ~ 2021\\n\\n\n",
       "1             \\n\\n\\n\\nJuventus\\n2018 ~ 2022\\n\\n\n",
       "2      \\n\\n\\n\\nAtlético Madrid\\n2014 ~ 2023\\n\\n\n",
       "3      \\n\\n\\n\\nManchester City\\n2015 ~ 2023\\n\\n\n",
       "4  \\n\\n\\n\\nParis Saint-Germain\\n2017 ~ 2022\\n\\n"
      ]
     },
     "execution_count": 168,
     "metadata": {},
     "output_type": "execute_result"
    }
   ],
   "source": [
    "d[[\"Team & Contract\"]].head()"
   ]
  },
  {
   "cell_type": "code",
   "execution_count": 208,
   "id": "80768e4f-6d62-4b39-806b-3dd1b2f3f2e8",
   "metadata": {},
   "outputs": [
    {
     "data": {
      "text/plain": [
       "'\\n\\n\\n\\nTottenham Hotspur\\nJun 30, 2021 On Loan\\n\\n'"
      ]
     },
     "execution_count": 208,
     "metadata": {},
     "output_type": "execute_result"
    }
   ],
   "source": [
    "d[\"Team & Contract\"].iloc[205]"
   ]
  },
  {
   "cell_type": "code",
   "execution_count": 209,
   "id": "b23f5c8d-ed12-4b60-91d7-74262e2beb19",
   "metadata": {},
   "outputs": [],
   "source": [
    "d[\"team\"] = d[\"Team & Contract\"].str.split(\"\\n\").str[4]\n",
    "d[\"contract\"] = d[\"Team & Contract\"].str.split(\"\\n\").str[5]"
   ]
  },
  {
   "cell_type": "code",
   "execution_count": 211,
   "id": "6683a01c-b084-4656-863c-1a3b031c9d13",
   "metadata": {},
   "outputs": [
    {
     "data": {
      "text/html": [
       "<div>\n",
       "<style scoped>\n",
       "    .dataframe tbody tr th:only-of-type {\n",
       "        vertical-align: middle;\n",
       "    }\n",
       "\n",
       "    .dataframe tbody tr th {\n",
       "        vertical-align: top;\n",
       "    }\n",
       "\n",
       "    .dataframe thead th {\n",
       "        text-align: right;\n",
       "    }\n",
       "</style>\n",
       "<table border=\"1\" class=\"dataframe\">\n",
       "  <thead>\n",
       "    <tr style=\"text-align: right;\">\n",
       "      <th></th>\n",
       "      <th>team</th>\n",
       "      <th>contract</th>\n",
       "    </tr>\n",
       "  </thead>\n",
       "  <tbody>\n",
       "    <tr>\n",
       "      <th>0</th>\n",
       "      <td>FC Barcelona</td>\n",
       "      <td>2004 ~ 2021</td>\n",
       "    </tr>\n",
       "    <tr>\n",
       "      <th>1</th>\n",
       "      <td>Juventus</td>\n",
       "      <td>2018 ~ 2022</td>\n",
       "    </tr>\n",
       "    <tr>\n",
       "      <th>2</th>\n",
       "      <td>Atlético Madrid</td>\n",
       "      <td>2014 ~ 2023</td>\n",
       "    </tr>\n",
       "    <tr>\n",
       "      <th>3</th>\n",
       "      <td>Manchester City</td>\n",
       "      <td>2015 ~ 2023</td>\n",
       "    </tr>\n",
       "    <tr>\n",
       "      <th>4</th>\n",
       "      <td>Paris Saint-Germain</td>\n",
       "      <td>2017 ~ 2022</td>\n",
       "    </tr>\n",
       "  </tbody>\n",
       "</table>\n",
       "</div>"
      ],
      "text/plain": [
       "                  team     contract\n",
       "0         FC Barcelona  2004 ~ 2021\n",
       "1             Juventus  2018 ~ 2022\n",
       "2      Atlético Madrid  2014 ~ 2023\n",
       "3      Manchester City  2015 ~ 2023\n",
       "4  Paris Saint-Germain  2017 ~ 2022"
      ]
     },
     "execution_count": 211,
     "metadata": {},
     "output_type": "execute_result"
    }
   ],
   "source": [
    "d[[ \"team\",  \"contract\"]].head()"
   ]
  },
  {
   "cell_type": "code",
   "execution_count": 213,
   "id": "b08eb0e7-c593-49a7-873b-687f2484e4ee",
   "metadata": {},
   "outputs": [
    {
     "data": {
      "text/plain": [
       "'Jun 30, 2021 On Loan'"
      ]
     },
     "execution_count": 213,
     "metadata": {},
     "output_type": "execute_result"
    }
   ],
   "source": [
    "d[\"contract\"].iloc[205]"
   ]
  },
  {
   "cell_type": "code",
   "execution_count": 221,
   "id": "14b0e56b-888a-4696-a99a-7f3ccd78d7a5",
   "metadata": {},
   "outputs": [
    {
     "data": {
      "text/plain": [
       "team\n",
       "                         238\n",
       "1. FC Heidenheim 1846     30\n",
       "1. FC Kaiserslautern      28\n",
       "1. FC Köln                31\n",
       "1. FC Magdeburg           28\n",
       "                        ... \n",
       "Zamora FC                 28\n",
       "Çaykur Rizespor           30\n",
       "Örebro SK                 26\n",
       "Östersunds FK             26\n",
       "Śląsk Wrocław             27\n",
       "Length: 682, dtype: int64"
      ]
     },
     "execution_count": 221,
     "metadata": {},
     "output_type": "execute_result"
    }
   ],
   "source": [
    "d.groupby(\"team\").size()"
   ]
  }
 ],
 "metadata": {
  "kernelspec": {
   "display_name": "Python 3 (ipykernel)",
   "language": "python",
   "name": "python3"
  },
  "language_info": {
   "codemirror_mode": {
    "name": "ipython",
    "version": 3
   },
   "file_extension": ".py",
   "mimetype": "text/x-python",
   "name": "python",
   "nbconvert_exporter": "python",
   "pygments_lexer": "ipython3",
   "version": "3.11.5"
  }
 },
 "nbformat": 4,
 "nbformat_minor": 5
}
